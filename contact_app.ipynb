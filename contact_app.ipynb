{
  "cells": [
    {
      "cell_type": "markdown",
      "metadata": {
        "id": "2Oiwz3WniowK"
      },
      "source": [
        "# Contact app\n",
        "\n",
        "You have learnt a lot of new things; data structures, string, regex & files. Lets use all our newly acquired knowledge to build a **contact app**, just like the ones in our smartphone.\n",
        "\n",
        "We will not be building a fancy UI, instead we will focus on understanding the programming logic.\n",
        "\n",
        "Lets get started!\n",
        "\n",
        "Think of all the features that your contact app has . . . !\n",
        "- It can show you all the contact names\n",
        "- You can search for contacts (using name)\n",
        "- You can see all the information associated with the contact\n",
        "- You can delete and update contacts\n",
        "\n",
        "Can you think of anything more ? Our contact app should have at least these features.\n",
        "- The app should show us all the contact names\n",
        "- It should allow us to select a contact and view all the information associated with the contact\n",
        "- It should allow us to update contact info & delete contact\n",
        "- Finally, it should show us all the contact names\n",
        "\n",
        "For every contact, we will store the `name`, `number` & `email`."
      ]
    },
    {
      "cell_type": "markdown",
      "metadata": {
        "id": "97IltLWxiowR"
      },
      "source": [
        "## Using files\n",
        "\n",
        "One major problem with the above approach is \"persistent storage\". Every time you close this notebook, all the new contacts are lost. This happens because `contacts` is a python variable. Its lives inside python session. As soon as the session is killed/terminated, all the varibles are also deleted.\n",
        "\n",
        "To address this problem, we will have to use save the contacts in a disk. What better reason to use files? Instead of using *list of dictionary*, use file to save the contacts.\n",
        "\n",
        "Save every new contact in a new-line and use \" , \" to separate the contact fields. This is how the above contacts should look, when saved in a file.\n",
        "\n",
        "```text\n",
        "vivek, vivek@gmail.com, 9921668254\n",
        "ankur, ankur@gmail.com, 8806807004\n",
        "pranav, pranav@gmail.com, 987654321\n",
        "```\n",
        "\n",
        "You task is to make appropriate changes to the above code to use `contacts.txt` instead of using `contacts` list."
      ]
    },
    {
      "cell_type": "markdown",
      "metadata": {
        "id": "na4XIlVpiowM"
      },
      "source": [
        "### Data Structure\n",
        "The very first thing that we need to decide is \"What data structure to use?\"\n",
        "\n",
        "To store all the contacts, we can use a list of dictionaries; were each dictionary stores the `name`, `number` & `email`  of the contact.\n",
        "\n",
        "Create a list of dictionaries called `contacts` with 3 dummy contacts.  "
      ]
    },
    {
      "cell_type": "code",
      "execution_count": 3,
      "metadata": {
        "colab": {
          "base_uri": "https://localhost:8080/"
        },
        "id": "sQvkT5WviowN",
        "outputId": "98991104-dffc-4ebf-be32-b4dda9e23313"
      },
      "outputs": [
        {
          "output_type": "execute_result",
          "data": {
            "text/plain": [
              "[{'name': 'vivek', 'email': 'vivek@gmail.com', 'number': '9921668254'},\n",
              " {'name': 'ankur', 'email': 'ankur@gmail.com', 'number': '8806807004'},\n",
              " {'name': 'pranav', 'email': 'pranav@gmail.com', 'number': '987654321'}]"
            ]
          },
          "metadata": {},
          "execution_count": 3
        }
      ],
      "source": [
        "contacts = [\n",
        "    {'name': 'vivek', 'email': 'vivek@gmail.com', 'number': '9921668254'},\n",
        "    {'name': 'ankur', 'email': 'ankur@gmail.com', 'number': '8806807004'},\n",
        "    {'name': 'pranav', 'email': 'pranav@gmail.com', 'number': '987654321'}\n",
        "]\n",
        "contacts"
      ]
    },
    {
      "cell_type": "markdown",
      "metadata": {
        "id": "R8tgwlzCiowO"
      },
      "source": [
        "### List all contact names\n",
        "Write `show_contacts` function that takes the `contacts` list and prints all the contact names. These names will help us to select the contact later."
      ]
    },
    {
      "cell_type": "code",
      "execution_count": 5,
      "metadata": {
        "id": "TVb45TNXiowP"
      },
      "outputs": [],
      "source": [
        "def show_contacts(contacts):\n",
        "    print(contacts)"
      ]
    },
    {
      "cell_type": "code",
      "execution_count": 6,
      "metadata": {
        "colab": {
          "base_uri": "https://localhost:8080/"
        },
        "id": "zl1yBSWbiowP",
        "outputId": "4899d686-183b-45a7-8a15-9c17f00797b6"
      },
      "outputs": [
        {
          "output_type": "stream",
          "name": "stdout",
          "text": [
            "[{'name': 'vivek', 'email': 'vivek@gmail.com', 'number': '9921668254'}, {'name': 'ankur', 'email': 'ankur@gmail.com', 'number': '8806807004'}, {'name': 'pranav', 'email': 'pranav@gmail.com', 'number': '987654321'}]\n"
          ]
        }
      ],
      "source": [
        "show_contacts(contacts)"
      ]
    },
    {
      "cell_type": "markdown",
      "metadata": {
        "id": "kzTgkOtyiowP"
      },
      "source": [
        "### Add a new Contact\n",
        "\n",
        "Write `add_contact` function that takes user input and *adds new contact* dictionary to the existing list of `contacts`."
      ]
    },
    {
      "cell_type": "code",
      "execution_count": 11,
      "metadata": {
        "id": "lEl3MI1MiowP"
      },
      "outputs": [],
      "source": [
        "def add_contact(contacts):\n",
        "    name = input(\"Enter contact name: \")\n",
        "    email = input(\"Enter contact email: \")\n",
        "    number = input(\"Enter contact number: \")\n",
        "\n",
        "    contacts.append({name : [number, email]})"
      ]
    },
    {
      "cell_type": "code",
      "execution_count": 12,
      "metadata": {
        "colab": {
          "base_uri": "https://localhost:8080/"
        },
        "id": "9Eg-eVjpiowP",
        "outputId": "f0baa894-3e2a-4984-cff1-93f5e0df201a"
      },
      "outputs": [
        {
          "name": "stdout",
          "output_type": "stream",
          "text": [
            "Enter contact name: adi\n",
            "Enter contact email: asdf\n",
            "Enter contact number: 12345678\n"
          ]
        }
      ],
      "source": [
        "add_contact(contacts)"
      ]
    },
    {
      "cell_type": "markdown",
      "metadata": {
        "id": "InQ8zxURiowQ"
      },
      "source": [
        "### Delete Contact\n",
        "\n",
        "Write `delete_contact` function to delete an existing contact by providing `name` of the contact which we want to delete."
      ]
    },
    {
      "cell_type": "code",
      "execution_count": 20,
      "metadata": {
        "id": "EgPnk5PNiowQ"
      },
      "outputs": [],
      "source": [
        "def delete_contact(contacts, dlname):\n",
        "    if dlname in contacts:\n",
        "        del contacts[dlname]\n",
        "        print(f\"Contact '{dlname}' deleted successfully!\")\n",
        "    else:\n",
        "        print(f\"Contact '{dlname}' not found.\")\n"
      ]
    },
    {
      "cell_type": "code",
      "execution_count": 21,
      "metadata": {
        "colab": {
          "base_uri": "https://localhost:8080/"
        },
        "id": "YiJMh4mLiowQ",
        "outputId": "5b5cd5bc-cbfc-46dd-f028-7b4f9a765333"
      },
      "outputs": [
        {
          "output_type": "stream",
          "name": "stdout",
          "text": [
            "Enter the contact name to delete: adi\n",
            "Contact 'adi' not found.\n"
          ]
        }
      ],
      "source": [
        "dlname = input(\"Enter the contact name to delete: \")\n",
        "delete_contact(contacts, dlname)"
      ]
    },
    {
      "cell_type": "markdown",
      "metadata": {
        "id": "VHpPPMAuiowQ"
      },
      "source": [
        "\n",
        "### Update Contact details\n",
        "\n",
        "Let's write `update_contact` function which will *update contact details* such as `name`, `email` & `number`.\n",
        "The functions should take `contacts` and `name` as arguments. It should also print the newly added contact."
      ]
    },
    {
      "cell_type": "code",
      "execution_count": 23,
      "metadata": {
        "id": "f3qcC4CqiowQ"
      },
      "outputs": [],
      "source": [
        "def update_contact(contacts, up_name):\n",
        "    # Find the contact by name (case-insensitive)\n",
        "    found = False\n",
        "    for contact in contacts:\n",
        "        if contact['name'].lower() == up_name.lower():\n",
        "            found = True\n",
        "            print(f\"Updating contact '{up_name}'...\\n\")\n",
        "\n",
        "            # Taking new details from user\n",
        "            new_name = input(f\"Enter new name (Leave empty to keep '{contact['name']}'): \")\n",
        "            new_number = input(f\"Enter new number (Leave empty to keep '{contact['number']}'): \")\n",
        "            new_email = input(f\"Enter new email (Leave empty to keep '{contact['email']}'): \")\n",
        "\n",
        "            # If new name is provided, update name\n",
        "            if new_name:\n",
        "                contact['name'] = new_name\n",
        "            # If new number is provided, update number\n",
        "            if new_number:\n",
        "                contact['number'] = new_number\n",
        "            # If new email is provided, update email\n",
        "            if new_email:\n",
        "                contact['email'] = new_email\n",
        "\n",
        "            # Print updated contact details\n",
        "            print(f\"Contact updated successfully: {contact}\")\n",
        "            break\n",
        "\n",
        "    if not found:\n",
        "        print(f\"Contact '{up_name}' not found.\")\n",
        "\n"
      ]
    },
    {
      "cell_type": "code",
      "execution_count": 27,
      "metadata": {
        "colab": {
          "base_uri": "https://localhost:8080/"
        },
        "id": "153uwW-jiowQ",
        "outputId": "ce0f0c98-1dcb-47c8-e826-e6e49fed8fd4"
      },
      "outputs": [
        {
          "output_type": "stream",
          "name": "stdout",
          "text": [
            "Enter the name of the contact you want to update: vivek\n",
            "Enter new name (Leave empty to keep 'vivek'): \n",
            "Updating contact 'vivek'...\n",
            "\n",
            "Enter new number (Leave empty to keep '9921668254'): \n",
            "Enter new email (Leave empty to keep 'vivek@gmail.com'): \n",
            "Contact updated successfully: {'name': 'vivek', 'email': 'vivek@gmail.com', 'number': '9921668254'}\n"
          ]
        }
      ],
      "source": [
        "up_name = input(\"Enter the name of the contact you want to update: \")\n",
        "update_contact(contacts, up_name)"
      ]
    },
    {
      "cell_type": "code",
      "source": [
        "show_contacts(contacts)"
      ],
      "metadata": {
        "colab": {
          "base_uri": "https://localhost:8080/"
        },
        "id": "DbFL79uSsRhq",
        "outputId": "6b182d41-d33d-4776-aa74-0a3314153fce"
      },
      "execution_count": 28,
      "outputs": [
        {
          "output_type": "stream",
          "name": "stdout",
          "text": [
            "[{'name': 'vivek', 'email': 'vivek@gmail.com', 'number': '9921668254'}, {'name': 'ankur', 'email': 'ankur@gmail.com', 'number': '8806807004'}, {'name': 'pranav', 'email': 'pranav@gmail.com', 'number': '987654321'}, {'adi': ['12345678', 'asdf']}]\n"
          ]
        }
      ]
    },
    {
      "cell_type": "markdown",
      "metadata": {
        "id": "rBa-OKtGiowQ"
      },
      "source": [
        "### Open Contact\n",
        "`open_contact` function takes the `contacts` list and a `name` string as input. It prints the contact details if `name` matches some contact name in the `contacts` list, else prints `No match found!`.\n",
        "\n",
        "**Note:** The functions should be case insensitive."
      ]
    },
    {
      "cell_type": "code",
      "source": [
        "def open_contact(contacts, op_name):\n",
        "    found = False\n",
        "    for contact in contacts:\n",
        "        if contact['name'].lower() == op_name.lower():\n",
        "            print(f\"Contact found: {contact}\")\n",
        "            found = True\n",
        "            break\n",
        "\n",
        "    if not found:\n",
        "        print('No match found!')\n"
      ],
      "metadata": {
        "id": "vRBIFW9X8ADv"
      },
      "execution_count": 31,
      "outputs": []
    },
    {
      "cell_type": "code",
      "execution_count": 32,
      "metadata": {
        "colab": {
          "base_uri": "https://localhost:8080/"
        },
        "id": "8wmk4hUTiowR",
        "outputId": "91d0a8eb-f18f-44a5-e451-38cfa24ffe93"
      },
      "outputs": [
        {
          "output_type": "stream",
          "name": "stdout",
          "text": [
            "vivek\n",
            "Contact found: {'name': 'vivek', 'email': 'vivek@gmail.com', 'number': '9921668254'}\n"
          ]
        }
      ],
      "source": [
        "open_contact(contacts, input())"
      ]
    },
    {
      "cell_type": "markdown",
      "metadata": {
        "id": "9oU26I0jiowR"
      },
      "source": [
        "We often see *update* & *delete* options after we open a particular contact. It would be great if we can also implement the same.\n",
        "\n",
        "After opening the contact, the program should wait for user input. The user can press `u` to update & `d` delete contact. Any other key press should be ignored\n",
        "\n",
        "Write the updated `open_contact` function below"
      ]
    },
    {
      "cell_type": "code",
      "execution_count": 33,
      "metadata": {
        "id": "xw8WNemMiowR"
      },
      "outputs": [],
      "source": [
        "def open_contact(contacts, op_name):\n",
        "    found = False\n",
        "    for contact in contacts:\n",
        "        if contact['name'].lower() == op_name.lower():\n",
        "            print(f\"Contact found: {contact}\")\n",
        "            found = True\n",
        "\n",
        "            # Prompt the user for further action\n",
        "            action = input(\"Press 'u' to update or 'd' to delete this contact, or any other key to exit: \").lower()\n",
        "\n",
        "            if action == 'u':\n",
        "                # Call the update_contact function\n",
        "                update_contact(contacts, op_name)\n",
        "            elif action == 'd':\n",
        "                # Call the delete_contact function\n",
        "                delete_contact(contacts, op_name)\n",
        "            else:\n",
        "                print(\"No action taken.\")\n",
        "            break\n",
        "\n",
        "    if not found:\n",
        "        print('No match found!')\n"
      ]
    },
    {
      "cell_type": "code",
      "execution_count": 34,
      "metadata": {
        "colab": {
          "base_uri": "https://localhost:8080/",
          "height": 298
        },
        "id": "CHFh146siowR",
        "outputId": "50eeebce-a066-4295-cfd2-af7f9a2622f2"
      },
      "outputs": [
        {
          "output_type": "error",
          "ename": "KeyboardInterrupt",
          "evalue": "Interrupted by user",
          "traceback": [
            "\u001b[0;31m---------------------------------------------------------------------------\u001b[0m",
            "\u001b[0;31mKeyboardInterrupt\u001b[0m                         Traceback (most recent call last)",
            "\u001b[0;32m<ipython-input-34-31fa933d08f5>\u001b[0m in \u001b[0;36m<cell line: 0>\u001b[0;34m()\u001b[0m\n\u001b[0;32m----> 1\u001b[0;31m \u001b[0mopen_contact\u001b[0m\u001b[0;34m(\u001b[0m\u001b[0mcontacts\u001b[0m\u001b[0;34m,\u001b[0m \u001b[0menter\u001b[0m\u001b[0;34m=\u001b[0m\u001b[0minput\u001b[0m\u001b[0;34m(\u001b[0m\u001b[0;34m)\u001b[0m\u001b[0;34m)\u001b[0m\u001b[0;34m\u001b[0m\u001b[0;34m\u001b[0m\u001b[0m\n\u001b[0m",
            "\u001b[0;32m/usr/local/lib/python3.11/dist-packages/ipykernel/kernelbase.py\u001b[0m in \u001b[0;36mraw_input\u001b[0;34m(self, prompt)\u001b[0m\n\u001b[1;32m   1175\u001b[0m                 \u001b[0;34m\"raw_input was called, but this frontend does not support input requests.\"\u001b[0m\u001b[0;34m\u001b[0m\u001b[0;34m\u001b[0m\u001b[0m\n\u001b[1;32m   1176\u001b[0m             )\n\u001b[0;32m-> 1177\u001b[0;31m         return self._input_request(\n\u001b[0m\u001b[1;32m   1178\u001b[0m             \u001b[0mstr\u001b[0m\u001b[0;34m(\u001b[0m\u001b[0mprompt\u001b[0m\u001b[0;34m)\u001b[0m\u001b[0;34m,\u001b[0m\u001b[0;34m\u001b[0m\u001b[0;34m\u001b[0m\u001b[0m\n\u001b[1;32m   1179\u001b[0m             \u001b[0mself\u001b[0m\u001b[0;34m.\u001b[0m\u001b[0m_parent_ident\u001b[0m\u001b[0;34m[\u001b[0m\u001b[0;34m\"shell\"\u001b[0m\u001b[0;34m]\u001b[0m\u001b[0;34m,\u001b[0m\u001b[0;34m\u001b[0m\u001b[0;34m\u001b[0m\u001b[0m\n",
            "\u001b[0;32m/usr/local/lib/python3.11/dist-packages/ipykernel/kernelbase.py\u001b[0m in \u001b[0;36m_input_request\u001b[0;34m(self, prompt, ident, parent, password)\u001b[0m\n\u001b[1;32m   1217\u001b[0m             \u001b[0;32mexcept\u001b[0m \u001b[0mKeyboardInterrupt\u001b[0m\u001b[0;34m:\u001b[0m\u001b[0;34m\u001b[0m\u001b[0;34m\u001b[0m\u001b[0m\n\u001b[1;32m   1218\u001b[0m                 \u001b[0;31m# re-raise KeyboardInterrupt, to truncate traceback\u001b[0m\u001b[0;34m\u001b[0m\u001b[0;34m\u001b[0m\u001b[0m\n\u001b[0;32m-> 1219\u001b[0;31m                 \u001b[0;32mraise\u001b[0m \u001b[0mKeyboardInterrupt\u001b[0m\u001b[0;34m(\u001b[0m\u001b[0;34m\"Interrupted by user\"\u001b[0m\u001b[0;34m)\u001b[0m \u001b[0;32mfrom\u001b[0m \u001b[0;32mNone\u001b[0m\u001b[0;34m\u001b[0m\u001b[0;34m\u001b[0m\u001b[0m\n\u001b[0m\u001b[1;32m   1220\u001b[0m             \u001b[0;32mexcept\u001b[0m \u001b[0mException\u001b[0m\u001b[0;34m:\u001b[0m\u001b[0;34m\u001b[0m\u001b[0;34m\u001b[0m\u001b[0m\n\u001b[1;32m   1221\u001b[0m                 \u001b[0mself\u001b[0m\u001b[0;34m.\u001b[0m\u001b[0mlog\u001b[0m\u001b[0;34m.\u001b[0m\u001b[0mwarning\u001b[0m\u001b[0;34m(\u001b[0m\u001b[0;34m\"Invalid Message:\"\u001b[0m\u001b[0;34m,\u001b[0m \u001b[0mexc_info\u001b[0m\u001b[0;34m=\u001b[0m\u001b[0;32mTrue\u001b[0m\u001b[0;34m)\u001b[0m\u001b[0;34m\u001b[0m\u001b[0;34m\u001b[0m\u001b[0m\n",
            "\u001b[0;31mKeyboardInterrupt\u001b[0m: Interrupted by user"
          ]
        }
      ],
      "source": [
        "open_contact(contacts, enter=input())"
      ]
    },
    {
      "cell_type": "markdown",
      "metadata": {
        "id": "nLWhbiboiowR"
      },
      "source": [
        "### Complete application (using all the above functions in use)\n",
        "\n",
        "We will use an infinite loop to encapsulate our application logic and break only when `q` is pressed. We will use `clear_output()` function from `IPython.display` to clear the output before printing anything new.\n",
        "\n",
        "Below is the pseudo-code to help you build the application logic."
      ]
    },
    {
      "cell_type": "code",
      "execution_count": 2,
      "metadata": {
        "colab": {
          "base_uri": "https://localhost:8080/"
        },
        "id": "TzMvYzoliowR",
        "outputId": "923373dd-d0c9-4e17-df1f-1b44ebd81840"
      },
      "outputs": [
        {
          "name": "stdout",
          "output_type": "stream",
          "text": [
            "Press 'a' - add contact, 'o' - open contact, 'u' - update contact, 'd' - delect contact,, 's' - search contact, 'q' - quito\n",
            "{'vivek': ['9921668254', 'vivek@gmail.com'], 'ankur': ['8806807004', 'ankur@gmail.com'], 'pranav': ['987654321', 'pranav@gmail.com']} \n",
            "\n",
            "Press 'a' - add contact, 'o' - open contact, 'u' - update contact, 'd' - delect contact,, 's' - search contact, 'q' - quitq\n"
          ]
        }
      ],
      "source": [
        "from IPython.display import clear_output\n",
        "\n",
        "# Initialize contacts dictionary\n",
        "contacts = {}\n",
        "\n",
        "# Infinite loop for the application\n",
        "while True:\n",
        "    # Clear previous output\n",
        "    clear_output(wait=True)\n",
        "\n",
        "    # Show options\n",
        "    action = input(\n",
        "        \"Choose an action:\\n\"\n",
        "        \"'a' - Add contact\\n\"\n",
        "        \"'o' - Open all contacts\\n\"\n",
        "        \"'u' - Update contact\\n\"\n",
        "        \"'d' - Delete contact\\n\"\n",
        "        \"'s' - Search contact\\n\"\n",
        "        \"'q' - Quit\\n\"\n",
        "        \"Enter your choice: \"\n",
        "    ).lower()\n",
        "\n",
        "    # Add contact\n",
        "    if action == 'a':\n",
        "        clear_output(wait=True)\n",
        "        name = input(\"Enter contact name: \")\n",
        "        number = input(\"Enter contact number: \")\n",
        "        email = input(\"Enter contact email: \")\n",
        "        contacts[name] = [number, email]\n",
        "        print(f\"Contact '{name}' added successfully!\")\n",
        "\n",
        "    # Open (view) all contacts\n",
        "    elif action == 'o':\n",
        "        clear_output(wait=True)\n",
        "        if contacts:\n",
        "            print(\"All Contacts:\\n\")\n",
        "            for name, details in contacts.items():\n",
        "                print(f\"Name: {name}, Number: {details[0]}, Email: {details[1]}\")\n",
        "        else:\n",
        "            print(\"No contacts found.\")\n",
        "\n",
        "    # Update existing contact\n",
        "    elif action == 'u':\n",
        "        clear_output(wait=True)\n",
        "        up_name = input(\"Enter the name of the contact to update: \")\n",
        "        if up_name in contacts:\n",
        "            number = input(\"Enter new contact number: \")\n",
        "            email = input(\"Enter new contact email: \")\n",
        "            contacts[up_name] = [number, email]\n",
        "            print(f\"Contact '{up_name}' updated successfully!\")\n",
        "        else:\n",
        "            print(f\"Contact '{up_name}' not found.\")\n",
        "\n",
        "    # Delete a contact\n",
        "    elif action == 'd':\n",
        "        clear_output(wait=True)\n",
        "        dlname = input(\"Enter the name of the contact to delete: \")\n",
        "        if dlname in contacts:\n",
        "            del contacts[dlname]\n",
        "            print(f\"Contact '{dlname}' deleted successfully!\")\n",
        "        else:\n",
        "            print(f\"Contact '{dlname}' not found.\")\n",
        "\n",
        "    # Search for a contact\n",
        "    elif action == 's':\n",
        "        clear_output(wait=True)\n",
        "        search_name = input(\"Enter the name of the contact to search: \")\n",
        "        if search_name in contacts:\n",
        "            number, email = contacts[search_name]\n",
        "            print(f\"Contact found:\\nName: {search_name}\\nNumber: {number}\\nEmail: {email}\")\n",
        "        else:\n",
        "            print(f\"No match found for '{search_name}'.\")\n",
        "\n",
        "    # Quit the application\n",
        "    elif action == 'q':\n",
        "        clear_output(wait=True)\n",
        "        print(\"Exiting Contact Manager. Goodbye!\")\n",
        "        break\n",
        "\n",
        "    # Invalid input\n",
        "    else:\n",
        "        clear_output(wait=True)\n",
        "        print(\"Invalid choice! Please try again.\")\n",
        "\n"
      ]
    },
    {
      "cell_type": "markdown",
      "metadata": {
        "id": "z3VNZWxoiowS"
      },
      "source": [
        "We really hope you had a wonderful time building this applications. This is how applications are developed in really life. You start with a set of basic functionalities and then you keep adding new features (like persistent storage & validation). As the application grows in size, you might encounter new problems to solve."
      ]
    }
  ],
  "metadata": {
    "kernelspec": {
      "display_name": "Python 3",
      "language": "python",
      "name": "python3"
    },
    "language_info": {
      "codemirror_mode": {
        "name": "ipython",
        "version": 3
      },
      "file_extension": ".py",
      "mimetype": "text/x-python",
      "name": "python",
      "nbconvert_exporter": "python",
      "pygments_lexer": "ipython3",
      "version": "3.7.4"
    },
    "toc": {
      "base_numbering": 1,
      "nav_menu": {},
      "number_sections": true,
      "sideBar": true,
      "skip_h1_title": false,
      "title_cell": "Table of Contents",
      "title_sidebar": "Contents",
      "toc_cell": false,
      "toc_position": {},
      "toc_section_display": true,
      "toc_window_display": false
    },
    "colab": {
      "provenance": []
    }
  },
  "nbformat": 4,
  "nbformat_minor": 0
}